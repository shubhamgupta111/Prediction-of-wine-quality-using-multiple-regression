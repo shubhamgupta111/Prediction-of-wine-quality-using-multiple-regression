{
 "cells": [
  {
   "cell_type": "markdown",
   "metadata": {},
   "source": [
    "# Q2. Prediction of wine quality using multiple regression"
   ]
  },
  {
   "cell_type": "code",
   "execution_count": 3,
   "metadata": {},
   "outputs": [],
   "source": [
    "#import libraries\n",
    "import pandas as pd # used to represent the data in dataframe\n",
    "import numpy as np # used for numerical operations\n",
    "from sklearn import linear_model #linear\n",
    "from sklearn.model_selection import train_test_split #used to split the data into training data and testing data"
   ]
  },
  {
   "cell_type": "code",
   "execution_count": 4,
   "metadata": {},
   "outputs": [
    {
     "name": "stdout",
     "output_type": "stream",
     "text": [
      "      fixed acidity  volatile acidity  citric acid  residual sugar  chlorides  \\\n",
      "0               7.4             0.700         0.00             1.9      0.076   \n",
      "1               7.8             0.880         0.00             2.6      0.098   \n",
      "2               7.8             0.760         0.04             2.3      0.092   \n",
      "3              11.2             0.280         0.56             1.9      0.075   \n",
      "4               7.4             0.700         0.00             1.9      0.076   \n",
      "...             ...               ...          ...             ...        ...   \n",
      "1594            6.2             0.600         0.08             2.0      0.090   \n",
      "1595            5.9             0.550         0.10             2.2      0.062   \n",
      "1596            6.3             0.510         0.13             2.3      0.076   \n",
      "1597            5.9             0.645         0.12             2.0      0.075   \n",
      "1598            6.0             0.310         0.47             3.6      0.067   \n",
      "\n",
      "      free sulfur dioxide  total sulfur dioxide  density    pH  sulphates  \\\n",
      "0                    11.0                  34.0  0.99780  3.51       0.56   \n",
      "1                    25.0                  67.0  0.99680  3.20       0.68   \n",
      "2                    15.0                  54.0  0.99700  3.26       0.65   \n",
      "3                    17.0                  60.0  0.99800  3.16       0.58   \n",
      "4                    11.0                  34.0  0.99780  3.51       0.56   \n",
      "...                   ...                   ...      ...   ...        ...   \n",
      "1594                 32.0                  44.0  0.99490  3.45       0.58   \n",
      "1595                 39.0                  51.0  0.99512  3.52       0.76   \n",
      "1596                 29.0                  40.0  0.99574  3.42       0.75   \n",
      "1597                 32.0                  44.0  0.99547  3.57       0.71   \n",
      "1598                 18.0                  42.0  0.99549  3.39       0.66   \n",
      "\n",
      "      alcohol  quality  \n",
      "0         9.4        5  \n",
      "1         9.8        5  \n",
      "2         9.8        5  \n",
      "3         9.8        6  \n",
      "4         9.4        5  \n",
      "...       ...      ...  \n",
      "1594     10.5        5  \n",
      "1595     11.2        6  \n",
      "1596     11.0        6  \n",
      "1597     10.2        5  \n",
      "1598     11.0        6  \n",
      "\n",
      "[1599 rows x 12 columns]\n"
     ]
    }
   ],
   "source": [
    "#Reading the dataset\n",
    "df = pd.read_csv(\"winequality-red.csv\") #reading the dataset file\n",
    "print(df)"
   ]
  },
  {
   "cell_type": "code",
   "execution_count": 5,
   "metadata": {},
   "outputs": [
    {
     "data": {
      "text/plain": [
       "Index(['fixed acidity', 'volatile acidity', 'citric acid', 'residual sugar',\n",
       "       'chlorides', 'free sulfur dioxide', 'total sulfur dioxide', 'density',\n",
       "       'pH', 'sulphates', 'alcohol', 'quality'],\n",
       "      dtype='object')"
      ]
     },
     "execution_count": 5,
     "metadata": {},
     "output_type": "execute_result"
    }
   ],
   "source": [
    "#all column name \n",
    "df.columns"
   ]
  },
  {
   "cell_type": "code",
   "execution_count": 6,
   "metadata": {},
   "outputs": [
    {
     "data": {
      "text/plain": [
       "fixed acidity           0\n",
       "volatile acidity        0\n",
       "citric acid             0\n",
       "residual sugar          0\n",
       "chlorides               0\n",
       "free sulfur dioxide     0\n",
       "total sulfur dioxide    0\n",
       "density                 0\n",
       "pH                      0\n",
       "sulphates               0\n",
       "alcohol                 0\n",
       "quality                 0\n",
       "dtype: int64"
      ]
     },
     "execution_count": 6,
     "metadata": {},
     "output_type": "execute_result"
    }
   ],
   "source": [
    "df.isnull().sum() #Checking null values"
   ]
  },
  {
   "cell_type": "code",
   "execution_count": 7,
   "metadata": {},
   "outputs": [
    {
     "name": "stdout",
     "output_type": "stream",
     "text": [
      "      fixed acidity  volatile acidity  citric acid  residual sugar  chlorides  \\\n",
      "0               7.4             0.700         0.00             1.9      0.076   \n",
      "1               7.8             0.880         0.00             2.6      0.098   \n",
      "2               7.8             0.760         0.04             2.3      0.092   \n",
      "3              11.2             0.280         0.56             1.9      0.075   \n",
      "4               7.4             0.700         0.00             1.9      0.076   \n",
      "...             ...               ...          ...             ...        ...   \n",
      "1594            6.2             0.600         0.08             2.0      0.090   \n",
      "1595            5.9             0.550         0.10             2.2      0.062   \n",
      "1596            6.3             0.510         0.13             2.3      0.076   \n",
      "1597            5.9             0.645         0.12             2.0      0.075   \n",
      "1598            6.0             0.310         0.47             3.6      0.067   \n",
      "\n",
      "      free sulfur dioxide  total sulfur dioxide  density    pH  sulphates  \\\n",
      "0                    11.0                  34.0  0.99780  3.51       0.56   \n",
      "1                    25.0                  67.0  0.99680  3.20       0.68   \n",
      "2                    15.0                  54.0  0.99700  3.26       0.65   \n",
      "3                    17.0                  60.0  0.99800  3.16       0.58   \n",
      "4                    11.0                  34.0  0.99780  3.51       0.56   \n",
      "...                   ...                   ...      ...   ...        ...   \n",
      "1594                 32.0                  44.0  0.99490  3.45       0.58   \n",
      "1595                 39.0                  51.0  0.99512  3.52       0.76   \n",
      "1596                 29.0                  40.0  0.99574  3.42       0.75   \n",
      "1597                 32.0                  44.0  0.99547  3.57       0.71   \n",
      "1598                 18.0                  42.0  0.99549  3.39       0.66   \n",
      "\n",
      "      alcohol  \n",
      "0         9.4  \n",
      "1         9.8  \n",
      "2         9.8  \n",
      "3         9.8  \n",
      "4         9.4  \n",
      "...       ...  \n",
      "1594     10.5  \n",
      "1595     11.2  \n",
      "1596     11.0  \n",
      "1597     10.2  \n",
      "1598     11.0  \n",
      "\n",
      "[1599 rows x 11 columns]\n",
      "0       5\n",
      "1       5\n",
      "2       5\n",
      "3       6\n",
      "4       5\n",
      "       ..\n",
      "1594    5\n",
      "1595    6\n",
      "1596    6\n",
      "1597    5\n",
      "1598    6\n",
      "Name: quality, Length: 1599, dtype: int64\n"
     ]
    }
   ],
   "source": [
    "X = df[['fixed acidity','volatile acidity','citric acid','residual sugar','chlorides','free sulfur dioxide','total sulfur dioxide','density','pH','sulphates','alcohol']] #independent variables\n",
    "y = df['quality'] #dependent variable\n",
    "print(X)\n",
    "print(y)"
   ]
  },
  {
   "cell_type": "code",
   "execution_count": 8,
   "metadata": {},
   "outputs": [
    {
     "name": "stdout",
     "output_type": "stream",
     "text": [
      "      fixed acidity  volatile acidity  citric acid  residual sugar  chlorides  \\\n",
      "523             9.3             0.400         0.49             2.5      0.085   \n",
      "626             8.8             0.600         0.29             2.2      0.098   \n",
      "495            10.7             0.350         0.53             2.6      0.070   \n",
      "1270            5.0             0.380         0.01             1.6      0.048   \n",
      "155             7.1             0.430         0.42             5.5      0.071   \n",
      "...             ...               ...          ...             ...        ...   \n",
      "763             9.3             0.655         0.26             2.0      0.096   \n",
      "835             7.6             0.665         0.10             1.5      0.066   \n",
      "1216            7.9             0.570         0.31             2.0      0.079   \n",
      "559            13.0             0.470         0.49             4.3      0.085   \n",
      "684             9.8             0.980         0.32             2.3      0.078   \n",
      "\n",
      "      free sulfur dioxide  total sulfur dioxide  density    pH  sulphates  \\\n",
      "523                  38.0                 142.0  0.99780  3.22       0.55   \n",
      "626                   5.0                  15.0  0.99880  3.36       0.49   \n",
      "495                   5.0                  16.0  0.99720  3.15       0.65   \n",
      "1270                 26.0                  60.0  0.99084  3.70       0.75   \n",
      "155                  28.0                 128.0  0.99730  3.42       0.71   \n",
      "...                   ...                   ...      ...   ...        ...   \n",
      "763                   5.0                  35.0  0.99738  3.25       0.42   \n",
      "835                  27.0                  55.0  0.99655  3.39       0.51   \n",
      "1216                 10.0                  79.0  0.99677  3.29       0.69   \n",
      "559                   6.0                  47.0  1.00210  3.30       0.68   \n",
      "684                  35.0                 152.0  0.99800  3.25       0.48   \n",
      "\n",
      "      alcohol  \n",
      "523       9.4  \n",
      "626       9.1  \n",
      "495      11.0  \n",
      "1270     14.0  \n",
      "155      10.5  \n",
      "...       ...  \n",
      "763       9.6  \n",
      "835       9.3  \n",
      "1216      9.5  \n",
      "559      12.7  \n",
      "684       9.4  \n",
      "\n",
      "[799 rows x 11 columns]\n",
      "      fixed acidity  volatile acidity  citric acid  residual sugar  chlorides  \\\n",
      "1109           10.8             0.470         0.43            2.10      0.171   \n",
      "1032            8.1             0.820         0.00            4.10      0.095   \n",
      "1002            9.1             0.290         0.33            2.05      0.063   \n",
      "487            10.2             0.645         0.36            1.80      0.053   \n",
      "979            12.2             0.450         0.49            1.40      0.075   \n",
      "...             ...               ...          ...             ...        ...   \n",
      "1551            7.1             0.670         0.00            2.30      0.083   \n",
      "566             8.7             0.700         0.24            2.50      0.226   \n",
      "1347            7.2             0.655         0.03            1.80      0.078   \n",
      "982             7.3             0.520         0.32            2.10      0.070   \n",
      "798             9.4             0.500         0.34            3.60      0.082   \n",
      "\n",
      "      free sulfur dioxide  total sulfur dioxide  density    pH  sulphates  \\\n",
      "1109                 27.0                  66.0  0.99820  3.17       0.76   \n",
      "1032                  5.0                  14.0  0.99854  3.36       0.53   \n",
      "1002                 13.0                  27.0  0.99516  3.26       0.84   \n",
      "487                   5.0                  14.0  0.99820  3.17       0.42   \n",
      "979                   3.0                   6.0  0.99690  3.13       0.63   \n",
      "...                   ...                   ...      ...   ...        ...   \n",
      "1551                 18.0                  27.0  0.99768  3.44       0.54   \n",
      "566                   5.0                  15.0  0.99910  3.32       0.60   \n",
      "1347                  7.0                  12.0  0.99587  3.34       0.39   \n",
      "982                  51.0                  70.0  0.99418  3.34       0.82   \n",
      "798                   5.0                  14.0  0.99870  3.29       0.52   \n",
      "\n",
      "      alcohol  \n",
      "1109     10.8  \n",
      "1032      9.6  \n",
      "1002     11.7  \n",
      "487      10.0  \n",
      "979      10.4  \n",
      "...       ...  \n",
      "1551      9.4  \n",
      "566       9.0  \n",
      "1347      9.5  \n",
      "982      12.9  \n",
      "798      10.7  \n",
      "\n",
      "[800 rows x 11 columns]\n",
      "523     5\n",
      "626     5\n",
      "495     8\n",
      "1270    6\n",
      "155     5\n",
      "       ..\n",
      "763     5\n",
      "835     5\n",
      "1216    6\n",
      "559     6\n",
      "684     5\n",
      "Name: quality, Length: 799, dtype: int64\n",
      "1109    6\n",
      "1032    5\n",
      "1002    7\n",
      "487     6\n",
      "979     5\n",
      "       ..\n",
      "1551    5\n",
      "566     6\n",
      "1347    5\n",
      "982     6\n",
      "798     6\n",
      "Name: quality, Length: 800, dtype: int64\n"
     ]
    }
   ],
   "source": [
    "#split the data into train and test\n",
    "X_train, X_test, y_train, y_test = train_test_split(X,y,test_size= 0.5, random_state = 0)\n",
    "print(X_train) \n",
    "print(X_test)\n",
    "print(y_train)\n",
    "print(y_test)"
   ]
  },
  {
   "cell_type": "code",
   "execution_count": 10,
   "metadata": {},
   "outputs": [],
   "source": [
    "#Building the model\n",
    "from sklearn.linear_model import LinearRegression #object\n",
    "model = LinearRegression() #creating object of the linear regresssion class\n",
    "model.fit(X_train, y_train) #Fitting the model\n",
    "y_pred = model.predict(X_test) #Testing data set"
   ]
  },
  {
   "cell_type": "code",
   "execution_count": 11,
   "metadata": {},
   "outputs": [
    {
     "name": "stdout",
     "output_type": "stream",
     "text": [
      "Predicted quality of wine = [6.31991404]\n"
     ]
    }
   ],
   "source": [
    "#predict the quality of wine\n",
    "predictedquality = model.predict([[10,0.5,0.45,2.8,0.2,40,80,0.9925,3.18,1.4,10.4]])\n",
    "#putting new values of all the independent variables to get the prediction\n",
    "print(\"Predicted quality of wine =\",predictedquality)"
   ]
  },
  {
   "cell_type": "code",
   "execution_count": 12,
   "metadata": {},
   "outputs": [
    {
     "name": "stdout",
     "output_type": "stream",
     "text": [
      "Mean absolute error = 0.51\n",
      "Mean squared error = 0.43\n",
      "R2 score = 0.3\n"
     ]
    }
   ],
   "source": [
    "import sklearn.metrics as sm\n",
    "#Residuals or Errors\n",
    "print(\"Mean absolute error =\",round(sm.mean_absolute_error(y_test,y_pred),2))\n",
    "print(\"Mean squared error =\",round(sm.mean_squared_error(y_test,y_pred),2))\n",
    "print(\"R2 score =\",round(sm.r2_score(y_test,y_pred),2))"
   ]
  },
  {
   "cell_type": "code",
   "execution_count": null,
   "metadata": {},
   "outputs": [],
   "source": []
  }
 ],
 "metadata": {
  "kernelspec": {
   "display_name": "Python 3",
   "language": "python",
   "name": "python3"
  },
  "language_info": {
   "codemirror_mode": {
    "name": "ipython",
    "version": 3
   },
   "file_extension": ".py",
   "mimetype": "text/x-python",
   "name": "python",
   "nbconvert_exporter": "python",
   "pygments_lexer": "ipython3",
   "version": "3.7.6"
  }
 },
 "nbformat": 4,
 "nbformat_minor": 4
}
